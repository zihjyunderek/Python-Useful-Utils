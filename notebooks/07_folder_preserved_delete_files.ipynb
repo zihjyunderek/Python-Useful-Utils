{
 "cells": [
  {
   "cell_type": "code",
   "execution_count": 1,
   "id": "8f78333b",
   "metadata": {},
   "outputs": [
    {
     "name": "stdout",
     "output_type": "stream",
     "text": [
      "Deleted file: D:\\Github (not-public)\\GWPCA_EN\\data\\City\\Chicago\\CBD\\Chicago_CBD_Core_merged.csv\n",
      "Deleted file: D:\\Github (not-public)\\GWPCA_EN\\data\\City\\Chicago\\CBD\\Chicago_CBD_Greater_merged.csv\n",
      "Deleted file: D:\\Github (not-public)\\GWPCA_EN\\data\\City\\Chicago\\CBD\\Chicago_CBD_Special_merged.csv\n",
      "Deleted file: D:\\Github (not-public)\\GWPCA_EN\\data\\City\\Chicago\\CensusTract\\Chicago_CensusTract_merged.csv\n",
      "Deleted file: D:\\Github (not-public)\\GWPCA_EN\\data\\City\\Chicago\\CityBoundaries\\Chicago_CityBoundaries_merged.csv\n",
      "Deleted file: D:\\Github (not-public)\\GWPCA_EN\\data\\City\\Chicago\\ZipCode\\Chicago_ZipCode_merged.csv\n",
      "Deleted file: D:\\Github (not-public)\\GWPCA_EN\\data\\City\\DC\\CBD\\DC_CBD_Core_merged.csv\n",
      "Deleted file: D:\\Github (not-public)\\GWPCA_EN\\data\\City\\DC\\CBD\\DC_CBD_Greater_merged.csv\n",
      "Deleted file: D:\\Github (not-public)\\GWPCA_EN\\data\\City\\DC\\CBD\\DC_CBD_Special_merged.csv\n",
      "Deleted file: D:\\Github (not-public)\\GWPCA_EN\\data\\City\\DC\\CensusTract\\DC_CensusTract_merged.csv\n",
      "Deleted file: D:\\Github (not-public)\\GWPCA_EN\\data\\City\\DC\\CityBoundaries\\DC_CityBoundaries_merged.csv\n",
      "Deleted file: D:\\Github (not-public)\\GWPCA_EN\\data\\City\\DC\\ZipCode\\DC_ZipCode_merged.csv\n",
      "Deleted file: D:\\Github (not-public)\\GWPCA_EN\\data\\City\\Houston\\CBD\\Houston_CBD_Core_merged.csv\n",
      "Deleted file: D:\\Github (not-public)\\GWPCA_EN\\data\\City\\Houston\\CBD\\Houston_CBD_Greater_merged.csv\n",
      "Deleted file: D:\\Github (not-public)\\GWPCA_EN\\data\\City\\Houston\\CBD\\Houston_CBD_Special_merged.csv\n",
      "Deleted file: D:\\Github (not-public)\\GWPCA_EN\\data\\City\\Houston\\CensusTract\\Houston_CensusTract_merged.csv\n",
      "Deleted file: D:\\Github (not-public)\\GWPCA_EN\\data\\City\\Houston\\CityBoundaries\\Houston_CityBoundaries_merged.csv\n",
      "Deleted file: D:\\Github (not-public)\\GWPCA_EN\\data\\City\\Houston\\ZipCode\\Houston_ZipCode_merged.csv\n",
      "Deleted file: D:\\Github (not-public)\\GWPCA_EN\\data\\City\\LA\\CBD\\LA_CBD_Core_merged.csv\n",
      "Deleted file: D:\\Github (not-public)\\GWPCA_EN\\data\\City\\LA\\CBD\\LA_CBD_Greater_merged.csv\n",
      "Deleted file: D:\\Github (not-public)\\GWPCA_EN\\data\\City\\LA\\CBD\\LA_CBD_Special_merged.csv\n",
      "Deleted file: D:\\Github (not-public)\\GWPCA_EN\\data\\City\\LA\\CensusTract\\LA_CensusTract_merged.csv\n",
      "Deleted file: D:\\Github (not-public)\\GWPCA_EN\\data\\City\\LA\\CityBoundaries\\LA_CityBoundaries_merged.csv\n",
      "Deleted file: D:\\Github (not-public)\\GWPCA_EN\\data\\City\\LA\\ZipCode\\LA_ZipCode_merged.csv\n",
      "Deleted file: D:\\Github (not-public)\\GWPCA_EN\\data\\City\\NYC\\CBD\\NYC_CBD_Core_merged.csv\n",
      "Deleted file: D:\\Github (not-public)\\GWPCA_EN\\data\\City\\NYC\\CBD\\NYC_CBD_Greater_merged.csv\n",
      "Deleted file: D:\\Github (not-public)\\GWPCA_EN\\data\\City\\NYC\\CBD\\NYC_CBD_Special_merged.csv\n",
      "Deleted file: D:\\Github (not-public)\\GWPCA_EN\\data\\City\\NYC\\CensusTract\\NYC_CensusTract_merged.csv\n",
      "Deleted file: D:\\Github (not-public)\\GWPCA_EN\\data\\City\\NYC\\CityBoundaries\\NYC_CityBoundaries_merged.csv\n",
      "Deleted file: D:\\Github (not-public)\\GWPCA_EN\\data\\City\\NYC\\ZipCode\\NYC_ZipCode_merged.csv\n",
      "Deleted file: D:\\Github (not-public)\\GWPCA_EN\\data\\City\\SF\\CBD\\SF_CBD_Core_merged.csv\n",
      "Deleted file: D:\\Github (not-public)\\GWPCA_EN\\data\\City\\SF\\CBD\\SF_CBD_Greater_merged.csv\n",
      "Deleted file: D:\\Github (not-public)\\GWPCA_EN\\data\\City\\SF\\CBD\\SF_CBD_Special_merged.csv\n",
      "Deleted file: D:\\Github (not-public)\\GWPCA_EN\\data\\City\\SF\\CensusTract\\SF_CensusTract_merged.csv\n",
      "Deleted file: D:\\Github (not-public)\\GWPCA_EN\\data\\City\\SF\\CityBoundaries\\SF_CityBoundaries_merged.csv\n",
      "Deleted file: D:\\Github (not-public)\\GWPCA_EN\\data\\City\\SF\\ZipCode\\SF_ZipCode_merged.csv\n",
      "✅ All files deleted, all folders preserved.\n"
     ]
    }
   ],
   "source": [
    "import os\n",
    "\n",
    "# Set the target folder path\n",
    "folder_path = r\"D:\\Github (not-public)\\GWPCA_EN\\data\\City\"\n",
    "\n",
    "# Walk through the folder tree\n",
    "for root, dirs, files in os.walk(folder_path):\n",
    "    for file in files:\n",
    "        file_path = os.path.join(root, file)\n",
    "        os.remove(file_path)\n",
    "        print(f\"Deleted file: {file_path}\")\n",
    "\n",
    "print(\"✅ All files deleted, all folders preserved.\")"
   ]
  },
  {
   "cell_type": "code",
   "execution_count": null,
   "id": "41ee3806",
   "metadata": {},
   "outputs": [],
   "source": [
    "import os\n",
    "\n",
    "# Set the target folder path\n",
    "folder_path = r\"D:\\Github (not-public)\\GWPCA_EN\\config\\Cities\"\n",
    "\n",
    "# Walk through the folder tree\n",
    "for root, dirs, files in os.walk(folder_path):\n",
    "    for file in files:\n",
    "        file_path = os.path.join(root, file)\n",
    "        \n",
    "        # Get file name without extension\n",
    "        base_name = os.path.splitext(file)[0]\n",
    "        \n",
    "        # Delete the original file\n",
    "        os.remove(file_path)\n",
    "        print(f\"Deleted file: {file_path}\")\n",
    "        \n",
    "        # Create an empty .json file with the same name\n",
    "        json_path = os.path.join(root, f\"{base_name}.json\")\n",
    "        with open(json_path, 'w') as f:\n",
    "            pass  # create an empty file\n",
    "        print(f\"Created empty JSON: {json_path}\")\n",
    "\n",
    "print(\"✅ All files processed. Empty JSON files created.\")\n"
   ]
  },
  {
   "cell_type": "code",
   "execution_count": 1,
   "id": "834dbb7f",
   "metadata": {},
   "outputs": [
    {
     "name": "stdout",
     "output_type": "stream",
     "text": [
      "Renamed: D:\\Github (not-public)\\GWPCA_EN\\data\\NYC_CensusTract_merged_filtered.csv -> D:\\Github (not-public)\\GWPCA_EN\\data\\NYC_CensusTract_merged.csv\n",
      "Renamed: D:\\Github (not-public)\\GWPCA_EN\\data\\SF_CensusTract_merged_filtered.csv -> D:\\Github (not-public)\\GWPCA_EN\\data\\SF_CensusTract_merged.csv\n",
      "✅ All '_filtered.csv' files renamed.\n"
     ]
    }
   ],
   "source": [
    "import os\n",
    "\n",
    "# Set the target folder path\n",
    "folder_path = r\"D:\\Github (not-public)\\GWPCA_EN\\data\"\n",
    "\n",
    "# Iterate through all files in the folder\n",
    "for file in os.listdir(folder_path):\n",
    "    # Process only CSV files that end with \"_filtered.csv\"\n",
    "    if file.endswith(\"_filtered.csv\"):\n",
    "        old_path = os.path.join(folder_path, file)\n",
    "        \n",
    "        # Remove \"_filtered\" from the file name\n",
    "        new_name = file.replace(\"_filtered\", \"\")\n",
    "        new_path = os.path.join(folder_path, new_name)\n",
    "        \n",
    "        # Rename the file\n",
    "        os.rename(old_path, new_path)\n",
    "        print(f\"Renamed: {old_path} -> {new_path}\")\n",
    "\n",
    "print(\"✅ All '_filtered.csv' files renamed.\")"
   ]
  }
 ],
 "metadata": {
  "kernelspec": {
   "display_name": "Python 3",
   "language": "python",
   "name": "python3"
  },
  "language_info": {
   "codemirror_mode": {
    "name": "ipython",
    "version": 3
   },
   "file_extension": ".py",
   "mimetype": "text/x-python",
   "name": "python",
   "nbconvert_exporter": "python",
   "pygments_lexer": "ipython3",
   "version": "3.12.10"
  }
 },
 "nbformat": 4,
 "nbformat_minor": 5
}
