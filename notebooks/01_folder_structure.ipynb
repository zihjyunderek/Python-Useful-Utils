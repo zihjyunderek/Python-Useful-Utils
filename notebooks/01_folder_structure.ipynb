{
 "cells": [
  {
   "cell_type": "code",
   "execution_count": 1,
   "id": "14f7ec67",
   "metadata": {},
   "outputs": [],
   "source": [
    "import os\n",
    "\n",
    "def list_dir_structure(path, indent=0):\n",
    "    \"\"\"\n",
    "    This function recursively lists the directory structure with indentations,\n",
    "    making it easier to view the entire folder hierarchy.\n",
    "    \n",
    "    :param path: Path to the directory you want to explore.\n",
    "    :param indent: The current indentation level for display purposes.\n",
    "    \"\"\"\n",
    "    try:\n",
    "        # List all items in the directory\n",
    "        for item in os.listdir(path):\n",
    "            full_path = os.path.join(path, item)\n",
    "            \n",
    "            # Check if item is a file or directory and display accordingly\n",
    "            if os.path.isdir(full_path):\n",
    "                print(\" \" * indent + \"|-- [DIR] \" + item)  # Mark directories with [DIR]\n",
    "                list_dir_structure(full_path, indent + 4)  # Recursively list directory contents\n",
    "            else:\n",
    "                print(\" \" * indent + \"|-- [FILE] \" + item)  # Mark files with [FILE]\n",
    "    except Exception as e:\n",
    "        print(f\"Error: {e}\")"
   ]
  },
  {
   "cell_type": "code",
   "execution_count": 2,
   "id": "fb952e86",
   "metadata": {},
   "outputs": [
    {
     "name": "stdout",
     "output_type": "stream",
     "text": [
      "|-- [DIR] 01_merge\n",
      "    |-- [FILE] 01_merge.ipynb\n",
      "    |-- [FILE] FX_merged_inner.csv\n",
      "    |-- [FILE] FX_merged_outer.csv\n",
      "|-- [DIR] evaluation\n",
      "    |-- [FILE] metrics.py\n",
      "    |-- [FILE] __init__.py\n",
      "    |-- [DIR] __pycache__\n",
      "        |-- [FILE] metrics.cpython-312.pyc\n",
      "        |-- [FILE] __init__.cpython-312.pyc\n",
      "|-- [DIR] loaders\n",
      "    |-- [FILE] data_loader.py\n",
      "    |-- [FILE] __init__.py\n",
      "    |-- [DIR] __pycache__\n",
      "        |-- [FILE] data_loader.cpython-312.pyc\n",
      "        |-- [FILE] __init__.cpython-312.pyc\n",
      "|-- [DIR] models\n",
      "    |-- [FILE] base_model.py\n",
      "    |-- [FILE] ensemble_models.py\n",
      "    |-- [FILE] historical_simulation.py\n",
      "    |-- [FILE] lgbm_model.py\n",
      "    |-- [FILE] neural_networks.py\n",
      "    |-- [FILE] qr_im.py\n",
      "    |-- [FILE] random_forest.py\n",
      "    |-- [FILE] xgboost_model.py\n",
      "    |-- [FILE] __init__.py\n",
      "    |-- [DIR] __pycache__\n",
      "        |-- [FILE] base_model.cpython-312.pyc\n",
      "        |-- [FILE] ensemble_models.cpython-312.pyc\n",
      "        |-- [FILE] historical_simulation.cpython-312.pyc\n",
      "        |-- [FILE] lgbm_model.cpython-312.pyc\n",
      "        |-- [FILE] qr_im.cpython-312.pyc\n",
      "        |-- [FILE] random_forest.cpython-312.pyc\n",
      "        |-- [FILE] xgboost_model.cpython-312.pyc\n",
      "        |-- [FILE] __init__.cpython-312.pyc\n",
      "|-- [FILE] runner.py\n",
      "|-- [DIR] utils\n",
      "    |-- [FILE] logger.py\n",
      "    |-- [FILE] __init__.py\n",
      "    |-- [DIR] __pycache__\n",
      "        |-- [FILE] logger.cpython-312.pyc\n",
      "        |-- [FILE] __init__.cpython-312.pyc\n",
      "|-- [DIR] visualization\n",
      "    |-- [FILE] plotly_charts.py\n",
      "    |-- [FILE] __init__.py\n",
      "    |-- [DIR] __pycache__\n",
      "        |-- [FILE] plotly_charts.cpython-312.pyc\n",
      "        |-- [FILE] __init__.cpython-312.pyc\n"
     ]
    }
   ],
   "source": [
    "def main():\n",
    "    # Set the path to the directory you want to list\n",
    "    path = r\"D:\\Github\\QR-IM\\src\"\n",
    "    \n",
    "    # Call the function to list the directory structure\n",
    "    list_dir_structure(path)\n",
    "\n",
    "if __name__ == \"__main__\":\n",
    "    main()"
   ]
  }
 ],
 "metadata": {
  "kernelspec": {
   "display_name": "Python 3",
   "language": "python",
   "name": "python3"
  },
  "language_info": {
   "codemirror_mode": {
    "name": "ipython",
    "version": 3
   },
   "file_extension": ".py",
   "mimetype": "text/x-python",
   "name": "python",
   "nbconvert_exporter": "python",
   "pygments_lexer": "ipython3",
   "version": "3.12.10"
  }
 },
 "nbformat": 4,
 "nbformat_minor": 5
}
