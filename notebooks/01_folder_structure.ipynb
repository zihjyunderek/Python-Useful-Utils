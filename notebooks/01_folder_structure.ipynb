{
 "cells": [
  {
   "cell_type": "code",
   "execution_count": 1,
   "id": "14f7ec67",
   "metadata": {},
   "outputs": [],
   "source": [
    "import os\n",
    "\n",
    "def list_dir_structure(path, indent=0):\n",
    "    \"\"\"\n",
    "    This function recursively lists the directory structure with indentations,\n",
    "    making it easier to view the entire folder hierarchy.\n",
    "    \n",
    "    :param path: Path to the directory you want to explore.\n",
    "    :param indent: The current indentation level for display purposes.\n",
    "    \"\"\"\n",
    "    try:\n",
    "        # List all items in the directory\n",
    "        print(f\"File path: {path}\")\n",
    "        for item in os.listdir(path):\n",
    "            full_path = os.path.join(path, item)\n",
    "\n",
    "            # Check if item is a file or directory and display accordingly\n",
    "            if os.path.isdir(full_path):\n",
    "                print(\" \" * indent + \"|-- [DIR] \" + item)  # Mark directories with [DIR]\n",
    "                list_dir_structure(full_path, indent + 4)  # Recursively list directory contents\n",
    "            else:\n",
    "                print(\" \" * indent + \"|-- [FILE] \" + item)  # Mark files with [FILE]\n",
    "    except Exception as e:\n",
    "        print(f\"Error: {e}\")"
   ]
  },
  {
   "cell_type": "code",
   "execution_count": 2,
   "id": "fb952e86",
   "metadata": {},
   "outputs": [
    {
     "name": "stdout",
     "output_type": "stream",
     "text": [
      "File path: D:\\Github\\PyGRF-Result-automation\\data\n",
      "|-- [DIR] ranked_features\n",
      "File path: D:\\Github\\PyGRF-Result-automation\\data\\ranked_features\n",
      "    |-- [FILE] Chicago_CensusTract_HousePrice_ranked_features.csv\n",
      "    |-- [FILE] Chicago_CensusTract_Population_ranked_features.csv\n",
      "    |-- [FILE] Chicago_CensusTract_RentalPrice_ranked_features.csv\n",
      "    |-- [FILE] DC_CensusTract_HousePrice_ranked_features.csv\n",
      "    |-- [FILE] DC_CensusTract_Population_ranked_features.csv\n",
      "    |-- [FILE] DC_CensusTract_RentalPrice_ranked_features.csv\n",
      "    |-- [FILE] Houston_CensusTract_HousePrice_ranked_features.csv\n",
      "    |-- [FILE] Houston_CensusTract_Population_ranked_features.csv\n",
      "    |-- [FILE] Houston_CensusTract_RentalPrice_ranked_features.csv\n",
      "    |-- [FILE] LA_CensusTract_HousePrice_ranked_features.csv\n",
      "    |-- [FILE] LA_CensusTract_Population_ranked_features.csv\n",
      "    |-- [FILE] LA_CensusTract_RentalPrice_ranked_features.csv\n",
      "    |-- [DIR] legacy\n",
      "File path: D:\\Github\\PyGRF-Result-automation\\data\\ranked_features\\legacy\n",
      "        |-- [FILE] Chicago_CensusTract_ranked_features.csv\n",
      "        |-- [FILE] DC_CensusTract_ranked_features.csv\n",
      "        |-- [FILE] Houston_CensusTract_ranked_features.csv\n",
      "        |-- [FILE] LA_CensusTract_ranked_features.csv\n",
      "        |-- [FILE] NYC_CensusTract_ranked_features.csv\n",
      "        |-- [FILE] SF_CensusTract_ranked_features.csv\n",
      "    |-- [FILE] NYC_CensusTract_HousePrice_ranked_features.csv\n",
      "    |-- [FILE] NYC_CensusTract_Population_ranked_features.csv\n",
      "    |-- [FILE] NYC_CensusTract_RentalPrice_ranked_features.csv\n",
      "    |-- [FILE] SF_CensusTract_HousePrice_ranked_features.csv\n",
      "    |-- [FILE] SF_CensusTract_Population_ranked_features.csv\n",
      "    |-- [FILE] SF_CensusTract_RentalPrice_ranked_features.csv\n",
      "|-- [DIR] summary\n",
      "File path: D:\\Github\\PyGRF-Result-automation\\data\\summary\n",
      "    |-- [FILE] Summary of PyGRF results 2.xlsx\n",
      "    |-- [FILE] Summary of PyGRF results.xlsx\n"
     ]
    }
   ],
   "source": [
    "def main():\n",
    "    # Set the path to the directory you want to list\n",
    "    path = r\"D:\\Github\\PyGRF-Result-automation\\data\"\n",
    "    \n",
    "    # Call the function to list the directory structure\n",
    "    list_dir_structure(path)\n",
    "\n",
    "if __name__ == \"__main__\":\n",
    "    main()"
   ]
  }
 ],
 "metadata": {
  "kernelspec": {
   "display_name": "Python 3",
   "language": "python",
   "name": "python3"
  },
  "language_info": {
   "codemirror_mode": {
    "name": "ipython",
    "version": 3
   },
   "file_extension": ".py",
   "mimetype": "text/x-python",
   "name": "python",
   "nbconvert_exporter": "python",
   "pygments_lexer": "ipython3",
   "version": "3.12.10"
  }
 },
 "nbformat": 4,
 "nbformat_minor": 5
}
