{
 "cells": [
  {
   "cell_type": "code",
   "execution_count": 1,
   "id": "9fb5090a",
   "metadata": {},
   "outputs": [],
   "source": [
    "import pandas as pd\n",
    "\n",
    "def show_columns(file_path):\n",
    "    \"\"\"\n",
    "    Display all column names from a CSV or Excel file.\n",
    "    - For CSV: read once and print column names.\n",
    "    - For Excel: iterate through all sheets and print column names for each sheet.\n",
    "    \"\"\"\n",
    "\n",
    "    if file_path.endswith(\".csv\"):\n",
    "        # CSV file has only one table\n",
    "        df = pd.read_csv(file_path, nrows=5)\n",
    "        print(\"File Type: CSV\")\n",
    "        print(\"Columns:\")\n",
    "        for col in df.columns:\n",
    "            print(f\"- {col}\")\n",
    "\n",
    "    elif file_path.endswith(\".xlsx\"):\n",
    "        # Excel file may contain multiple sheets\n",
    "        xls = pd.ExcelFile(file_path)\n",
    "        print(\"File Type: Excel\")\n",
    "        print(f\"Found {len(xls.sheet_names)} sheets: {xls.sheet_names}\\n\")\n",
    "\n",
    "        # Loop through each sheet\n",
    "        for sheet in xls.sheet_names:\n",
    "            df = pd.read_excel(file_path, sheet_name=sheet, nrows=5)\n",
    "            print(f\"Sheet: {sheet}\")\n",
    "            for col in df.columns:\n",
    "                print(f\"- {col}\")\n",
    "            print()  # empty line for readability\n",
    "\n",
    "    else:\n",
    "        raise ValueError(\"Only .csv and .xlsx are supported\")"
   ]
  },
  {
   "cell_type": "code",
   "execution_count": 2,
   "id": "30dd5808",
   "metadata": {},
   "outputs": [
    {
     "name": "stdout",
     "output_type": "stream",
     "text": [
      "File Type: Excel\n",
      "Found 3 sheets: ['Global Elbow Features', 'Local SHAP Elbow Features', 'Local MDI Elbow Features (Mean,']\n",
      "\n",
      "Sheet: Global Elbow Features\n",
      "- City\n",
      "- MDI\n",
      "- SHAP\n",
      "\n",
      "Sheet: Local SHAP Elbow Features\n",
      "- City\n",
      "- Mean\n",
      "- Median\n",
      "- STD\n",
      "- IQR\n",
      "\n",
      "Sheet: Local MDI Elbow Features (Mean,\n",
      "- City\n",
      "- Mean\n",
      "- Median\n",
      "- STD\n",
      "- IQR\n",
      "\n"
     ]
    }
   ],
   "source": [
    "# Example 1\n",
    "show_columns(r\"D:\\Github\\PyGRF-Result-automation\\Summary of PyGRF results.xlsx\")"
   ]
  },
  {
   "cell_type": "code",
   "execution_count": 3,
   "id": "146fe8e5",
   "metadata": {},
   "outputs": [
    {
     "name": "stdout",
     "output_type": "stream",
     "text": [
      "File Type: CSV\n",
      "Columns:\n",
      "- feature\n",
      "- global_rank\n",
      "- local_mean_rank\n",
      "- local_median_rank\n",
      "- local_std_rank\n",
      "- local_iqr_rank\n"
     ]
    }
   ],
   "source": [
    "# Example 2\n",
    "show_columns(r\"D:\\Github\\PyGRF-Result-automation\\PyGRF results\\ranked_features.csv\\Chicago_CensusTract_ranked_features.csv\")"
   ]
  }
 ],
 "metadata": {
  "kernelspec": {
   "display_name": "Python 3",
   "language": "python",
   "name": "python3"
  },
  "language_info": {
   "codemirror_mode": {
    "name": "ipython",
    "version": 3
   },
   "file_extension": ".py",
   "mimetype": "text/x-python",
   "name": "python",
   "nbconvert_exporter": "python",
   "pygments_lexer": "ipython3",
   "version": "3.12.10"
  }
 },
 "nbformat": 4,
 "nbformat_minor": 5
}
