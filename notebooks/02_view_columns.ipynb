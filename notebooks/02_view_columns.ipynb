{
 "cells": [
  {
   "cell_type": "code",
   "execution_count": null,
   "id": "9fb5090a",
   "metadata": {},
   "outputs": [],
   "source": [
    "import pandas as pd\n",
    "\n",
    "def show_columns(file_path):\n",
    "    if file_path.endswith(\".csv\"):\n",
    "        df = pd.read_csv(file_path, nrows=5)\n",
    "    elif file_path.endswith(\".xlsx\"):\n",
    "        df = pd.read_excel(file_path, nrows=5)\n",
    "    else:\n",
    "        raise ValueError(\"Only support .csv 和 .xlsx\")\n",
    "    \n",
    "    print(\"Column Name:\")\n",
    "    for col in df.columns:\n",
    "        print(f\"- {col}\")\n",
    "\n",
    "# Example\n",
    "show_columns(\"data/sample.csv\")"
   ]
  }
 ],
 "metadata": {
  "language_info": {
   "name": "python"
  }
 },
 "nbformat": 4,
 "nbformat_minor": 5
}
