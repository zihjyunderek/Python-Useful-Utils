{
 "cells": [
  {
   "cell_type": "code",
   "execution_count": null,
   "id": "672c8c7c",
   "metadata": {},
   "outputs": [],
   "source": [
    "import pandas as pd\n",
    "\n",
    "file_path = \"data/sample.csv\"\n",
    "df = pd.read_csv(file_path)\n",
    "\n",
    "df.describe().T\n",
    "df.info()"
   ]
  }
 ],
 "metadata": {
  "language_info": {
   "name": "python"
  }
 },
 "nbformat": 4,
 "nbformat_minor": 5
}
