{
 "cells": [
  {
   "cell_type": "code",
   "execution_count": null,
   "id": "a1d97581",
   "metadata": {},
   "outputs": [],
   "source": [
    "import pandas as pd\n",
    "\n",
    "file_path = \"data/sample.csv\"\n",
    "df = pd.read_csv(file_path)\n",
    "\n",
    "df.columns = (\n",
    "    df.columns.str.strip()       # 去掉前後空白\n",
    "             .str.lower()        # 全部轉小寫\n",
    "             .str.replace(\" \", \"_\")  # 空白改底線\n",
    "             .str.replace(r\"[^a-zA-Z0-9_]\", \"\", regex=True)  # 移除特殊符號\n",
    ")\n",
    "\n",
    "print(\"新的欄位名稱：\")\n",
    "print(df.columns.tolist())\n",
    "print(df.head())"
   ]
  },
  {
   "cell_type": "code",
   "execution_count": null,
   "id": "cc835a56",
   "metadata": {},
   "outputs": [],
   "source": [
    "# Save the renamed DataFrame to a new CSV file\n",
    "df_savepath = \"data/sample_renamed.csv\"\n",
    "df.to_csv(df_savepath, index=False)"
   ]
  }
 ],
 "metadata": {
  "language_info": {
   "name": "python"
  }
 },
 "nbformat": 4,
 "nbformat_minor": 5
}
