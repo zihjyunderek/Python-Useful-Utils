{
 "cells": [
  {
   "cell_type": "code",
   "execution_count": null,
   "id": "34bf5d75",
   "metadata": {},
   "outputs": [],
   "source": [
    "import pandas as pd\n",
    "import os\n",
    "\n",
    "folder_path = \"data/\"\n",
    "all_files = [f for f in os.listdir(folder_path) if f.endswith(\".csv\")]\n",
    "\n",
    "df_list = [pd.read_csv(os.path.join(folder_path, f)) for f in all_files]\n",
    "merged_df = pd.concat(df_list, ignore_index=True)\n",
    "\n",
    "print(\"Complete Merge, total rows:\", len(merged_df))"
   ]
  },
  {
   "cell_type": "code",
   "execution_count": null,
   "id": "2caec669",
   "metadata": {},
   "outputs": [],
   "source": [
    "# Save merged DataFrame to a new CSV file\n",
    "file_path = \"data/merged_data.csv\"\n",
    "merged_df.to_csv(file_path, index=False)"
   ]
  }
 ],
 "metadata": {
  "language_info": {
   "name": "python"
  }
 },
 "nbformat": 4,
 "nbformat_minor": 5
}
