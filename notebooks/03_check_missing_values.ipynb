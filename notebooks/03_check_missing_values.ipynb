{
 "cells": [
  {
   "cell_type": "code",
   "execution_count": null,
   "id": "e40595c8",
   "metadata": {},
   "outputs": [],
   "source": [
    "import pandas as pd\n",
    "\n",
    "def check_missing(file_path):\n",
    "    df = pd.read_csv(file_path) if file_path.endswith(\".csv\") else pd.read_excel(file_path)\n",
    "    missing_info = df.isnull().sum()\n",
    "    print(\"Missing Values stats：\")\n",
    "    for col, miss in missing_info.items():\n",
    "        if miss > 0:\n",
    "            print(f\"- {col}: {miss} ({miss/len(df):.2%})\")\n",
    "\n",
    "# Example\n",
    "check_missing(\"data/sample.csv\")"
   ]
  }
 ],
 "metadata": {
  "language_info": {
   "name": "python"
  }
 },
 "nbformat": 4,
 "nbformat_minor": 5
}
